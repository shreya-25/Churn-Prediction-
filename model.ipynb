{
  "nbformat": 4,
  "nbformat_minor": 0,
  "metadata": {
    "colab": {
      "name": "model.ipynb",
      "provenance": []
    },
    "kernelspec": {
      "name": "python3",
      "display_name": "Python 3"
    }
  },
  "cells": [
    {
      "cell_type": "code",
      "metadata": {
        "id": "7tWSPU1lfzHt"
      },
      "source": [
        "import numpy as np\r\n",
        "import pandas as pd\r\n",
        "import seaborn as sns\r\n",
        "import matplotlib.pyplot as plt\r\n",
        "from sklearn.preprocessing import LabelEncoder\r\n",
        "from sklearn.preprocessing import StandardScaler\r\n",
        "from sklearn.linear_model import LogisticRegression\r\n",
        "from sklearn.model_selection import KFold, StratifiedKFold, train_test_split\r\n",
        "from sklearn.metrics import roc_auc_score, accuracy_score, confusion_matrix, roc_curve, precision_score, recall_score, precision_recall_curve\r\n",
        "import warnings\r\n",
        "warnings.simplefilter(action='ignore', category=FutureWarning)\r\n",
        "warnings.simplefilter(action='ignore', category=UserWarning)"
      ],
      "execution_count": null,
      "outputs": []
    },
    {
      "cell_type": "code",
      "metadata": {
        "id": "aNzSgk-ef0OF"
      },
      "source": [
        "df = pd.read_csv('churn_prediction.csv')"
      ],
      "execution_count": null,
      "outputs": []
    },
    {
      "cell_type": "code",
      "metadata": {
        "id": "OSAmYdt-f3Pg"
      },
      "source": [
        "pd.isnull(df).sum()"
      ],
      "execution_count": null,
      "outputs": []
    },
    {
      "cell_type": "code",
      "metadata": {
        "id": "xmn7xFF6f6Y0"
      },
      "source": [
        "df['gender'].value_counts()"
      ],
      "execution_count": null,
      "outputs": []
    },
    {
      "cell_type": "code",
      "metadata": {
        "id": "NfwurqeCf9iw"
      },
      "source": [
        "#Convert Gender\r\n",
        "dict_gender = {'Male': 1, 'Female':0}\r\n",
        "df.replace({'gender': dict_gender}, inplace = True)\r\n",
        "\r\n",
        "df['gender'] = df['gender'].fillna(-1)"
      ],
      "execution_count": null,
      "outputs": []
    },
    {
      "cell_type": "code",
      "metadata": {
        "id": "mW3S7xJmgARI"
      },
      "source": [
        "df['dependents'].value_counts()"
      ],
      "execution_count": null,
      "outputs": []
    },
    {
      "cell_type": "code",
      "metadata": {
        "id": "OmgYzdwDgDRO"
      },
      "source": [
        "df['occupation'].value_counts()"
      ],
      "execution_count": null,
      "outputs": []
    },
    {
      "cell_type": "code",
      "metadata": {
        "id": "MgHCjy7QgF2p"
      },
      "source": [
        "df['dependents'] = df['dependents'].fillna(0)\r\n",
        "df['occupation'] = df['occupation'].fillna('self_employed')"
      ],
      "execution_count": null,
      "outputs": []
    },
    {
      "cell_type": "code",
      "metadata": {
        "id": "tERUEBkUgJIC"
      },
      "source": [
        "df['city'] = df['city'].fillna(1020)"
      ],
      "execution_count": null,
      "outputs": []
    },
    {
      "cell_type": "code",
      "metadata": {
        "id": "d0tVVxRAgMGz"
      },
      "source": [
        "df['days_since_last_transaction'] = df['days_since_last_transaction'].fillna(999)"
      ],
      "execution_count": null,
      "outputs": []
    },
    {
      "cell_type": "code",
      "metadata": {
        "id": "mxP21aDTgP1U"
      },
      "source": [
        "# Convert occupation to one hot encoded features\r\n",
        "df = pd.concat([df,pd.get_dummies(df['occupation'],prefix = str('occupation'),prefix_sep='_')],axis = 1)"
      ],
      "execution_count": null,
      "outputs": []
    },
    {
      "cell_type": "code",
      "metadata": {
        "id": "KA8-vtrLgT7l"
      },
      "source": [
        "num_cols = ['customer_nw_category', 'current_balance',\r\n",
        "            'previous_month_end_balance', 'average_monthly_balance_prevQ2', 'average_monthly_balance_prevQ',\r\n",
        "            'current_month_credit','previous_month_credit', 'current_month_debit', \r\n",
        "            'previous_month_debit','current_month_balance', 'previous_month_balance']\r\n",
        "for i in num_cols:\r\n",
        "    df[i] = np.log(df[i] + 17000)\r\n",
        "\r\n",
        "std = StandardScaler()\r\n",
        "scaled = std.fit_transform(df[num_cols])\r\n",
        "scaled = pd.DataFrame(scaled,columns=num_cols)"
      ],
      "execution_count": null,
      "outputs": []
    },
    {
      "cell_type": "code",
      "metadata": {
        "id": "vMFwiJ7WgW28"
      },
      "source": [
        "df_df_og = df.copy()\r\n",
        "df = df.drop(columns = num_cols,axis = 1)\r\n",
        "df = df.merge(scaled,left_index=True,right_index=True,how = \"left\")"
      ],
      "execution_count": null,
      "outputs": []
    },
    {
      "cell_type": "code",
      "metadata": {
        "id": "ohYp60LmgaSO"
      },
      "source": [
        "y_all = df.churn\r\n",
        "df = df.drop(['churn','customer_id','occupation'],axis = 1)"
      ],
      "execution_count": null,
      "outputs": []
    },
    {
      "cell_type": "code",
      "metadata": {
        "id": "0zkziJNIgc8H"
      },
      "source": [
        "baseline_cols = ['current_month_debit', 'previous_month_debit','current_balance','previous_month_end_balance','vintage'\r\n",
        "                 ,'occupation_retired', 'occupation_salaried','occupation_self_employed', 'occupation_student']"
      ],
      "execution_count": null,
      "outputs": []
    },
    {
      "cell_type": "code",
      "metadata": {
        "id": "cAiPYFTpghW1"
      },
      "source": [
        "df_baseline = df[baseline_cols]"
      ],
      "execution_count": null,
      "outputs": []
    },
    {
      "cell_type": "code",
      "metadata": {
        "id": "Syy-MguFgkBq"
      },
      "source": [
        "# Splitting the data into Train and Validation set\r\n",
        "xtrain, xtest, ytrain, ytest = train_test_split(df_baseline,y_all,test_size=1/3, random_state=11, stratify = y_all)"
      ],
      "execution_count": null,
      "outputs": []
    },
    {
      "cell_type": "code",
      "metadata": {
        "id": "87GbS98NgnSS"
      },
      "source": [
        "model = LogisticRegression()\r\n",
        "model.fit(xtrain,ytrain)\r\n",
        "pred = model.predict_proba(xtest)[:,1]"
      ],
      "execution_count": null,
      "outputs": []
    },
    {
      "cell_type": "code",
      "metadata": {
        "id": "f_RrPd1igqYh"
      },
      "source": [
        "from sklearn.metrics import roc_curve\r\n",
        "fpr, tpr, _ = roc_curve(ytest,pred) \r\n",
        "auc = roc_auc_score(ytest, pred) \r\n",
        "plt.figure(figsize=(12,8)) \r\n",
        "plt.plot(fpr,tpr,label=\"Validation AUC-ROC=\"+str(auc)) \r\n",
        "x = np.linspace(0, 1, 1000)\r\n",
        "plt.plot(x, x, linestyle='-')\r\n",
        "plt.xlabel('False Positive Rate') \r\n",
        "plt.ylabel('True Positive Rate') \r\n",
        "plt.legend(loc=4) \r\n",
        "plt.show()"
      ],
      "execution_count": null,
      "outputs": []
    },
    {
      "cell_type": "code",
      "metadata": {
        "id": "3Vpa1aoIgtzI"
      },
      "source": [
        "# Confusion Matrix\r\n",
        "pred_val = model.predict(xtest)"
      ],
      "execution_count": null,
      "outputs": []
    },
    {
      "cell_type": "code",
      "metadata": {
        "id": "Uz5q5_dqgxTD"
      },
      "source": [
        "label_preds = pred_val\r\n",
        "\r\n",
        "cm = confusion_matrix(ytest,label_preds)\r\n",
        "\r\n",
        "\r\n",
        "def plot_confusion_matrix(cm, normalized=True, cmap='bone'):\r\n",
        "    plt.figure(figsize=[7, 6])\r\n",
        "    norm_cm = cm\r\n",
        "    if normalized:\r\n",
        "        norm_cm = cm.astype('float') / cm.sum(axis=1)[:, np.newaxis]\r\n",
        "        sns.heatmap(norm_cm, annot=cm, fmt='g', xticklabels=['Predicted: No','Predicted: Yes'], yticklabels=['Actual: No','Actual: Yes'], cmap=cmap)\r\n",
        "\r\n",
        "plot_confusion_matrix(cm, ['No', 'Yes'])"
      ],
      "execution_count": null,
      "outputs": []
    },
    {
      "cell_type": "code",
      "metadata": {
        "id": "PzsSDO3bg0QC"
      },
      "source": [
        "# Recall Score\r\n",
        "recall_score(ytest,pred_val)"
      ],
      "execution_count": null,
      "outputs": []
    },
    {
      "cell_type": "code",
      "metadata": {
        "id": "2B5uNimEg5UV"
      },
      "source": [
        "def cv_score(ml_model, rstate = 12, thres = 0.5, cols = df.columns):\r\n",
        "    i = 1\r\n",
        "    cv_scores = []\r\n",
        "    df1 = df.copy()\r\n",
        "    df1 = df[cols]\r\n",
        "    \r\n",
        "    # 5 Fold cross validation stratified on the basis of target\r\n",
        "    kf = StratifiedKFold(n_splits=5,random_state=rstate,shuffle=True)\r\n",
        "    for df_index,test_index in kf.split(df1,y_all):\r\n",
        "        print('\\n{} of kfold {}'.format(i,kf.n_splits))\r\n",
        "        xtr,xvl = df1.loc[df_index],df1.loc[test_index]\r\n",
        "        ytr,yvl = y_all.loc[df_index],y_all.loc[test_index]\r\n",
        "            \r\n",
        "        # Define model for fitting on the training set for each fold\r\n",
        "        model = ml_model\r\n",
        "        model.fit(xtr, ytr)\r\n",
        "        pred_probs = model.predict_proba(xvl)\r\n",
        "        pp = []\r\n",
        "         \r\n",
        "        # Use threshold to define the classes based on probability values\r\n",
        "        for j in pred_probs[:,1]:\r\n",
        "            if j>thres:\r\n",
        "                pp.append(1)\r\n",
        "            else:\r\n",
        "                pp.append(0)\r\n",
        "         \r\n",
        "        # Calculate scores for each fold and print\r\n",
        "        pred_val = pp\r\n",
        "        roc_score = roc_auc_score(yvl,pred_probs[:,1])\r\n",
        "        recall = recall_score(yvl,pred_val)\r\n",
        "        precision = precision_score(yvl,pred_val)\r\n",
        "        sufix = \"\"\r\n",
        "        msg = \"\"\r\n",
        "        msg += \"ROC AUC Score: {}, Recall Score: {:.4f}, Precision Score: {:.4f} \".format(roc_score, recall,precision)\r\n",
        "        print(\"{}\".format(msg))\r\n",
        "         \r\n",
        "         # Save scores\r\n",
        "        cv_scores.append(roc_score)\r\n",
        "        i+=1\r\n",
        "    return cv_scores"
      ],
      "execution_count": null,
      "outputs": []
    },
    {
      "cell_type": "code",
      "metadata": {
        "id": "AaqX6wyEg9Y5"
      },
      "source": [
        "baseline_scores = cv_score(LogisticRegression(), cols = baseline_cols)"
      ],
      "execution_count": null,
      "outputs": []
    },
    {
      "cell_type": "code",
      "metadata": {
        "id": "EeeffAk5hAhD"
      },
      "source": [
        "all_feat_scores = cv_score(LogisticRegression())"
      ],
      "execution_count": null,
      "outputs": []
    },
    {
      "cell_type": "code",
      "metadata": {
        "id": "hcyDPtSShDI6"
      },
      "source": [
        "from sklearn.feature_selection import RFE\r\n",
        "import matplotlib.pyplot as plt\r\n",
        "\r\n",
        "# Create the RFE object and rank each feature\r\n",
        "model = LogisticRegression()\r\n",
        "rfe = RFE(estimator=model, n_features_to_select=1, step=1)\r\n",
        "rfe.fit(df, y_all)"
      ],
      "execution_count": null,
      "outputs": []
    },
    {
      "cell_type": "code",
      "metadata": {
        "id": "u6eMIWXzhG3t"
      },
      "source": [
        "ranking_df = pd.DataFrame()\r\n",
        "ranking_df['Feature_name'] = df.columns\r\n",
        "ranking_df['Rank'] = rfe.ranking_"
      ],
      "execution_count": null,
      "outputs": []
    },
    {
      "cell_type": "code",
      "metadata": {
        "id": "rpO3r5J3hKys"
      },
      "source": [
        "ranked = ranking_df.sort_values(by=['Rank'])"
      ],
      "execution_count": null,
      "outputs": []
    },
    {
      "cell_type": "code",
      "metadata": {
        "id": "Clwxhn4QhNOR"
      },
      "source": [
        "ranked"
      ],
      "execution_count": null,
      "outputs": []
    },
    {
      "cell_type": "code",
      "metadata": {
        "id": "RR8A3zfthPju"
      },
      "source": [
        "rfe_top_10_scores = cv_score(LogisticRegression(), cols = ranked['Feature_name'][:10].values)"
      ],
      "execution_count": null,
      "outputs": []
    },
    {
      "cell_type": "code",
      "metadata": {
        "id": "p2hugvJrhPn_"
      },
      "source": [
        "cv_score(LogisticRegression(), cols = ranked['Feature_name'][:10].values, thres=0.14)"
      ],
      "execution_count": null,
      "outputs": []
    },
    {
      "cell_type": "code",
      "metadata": {
        "id": "DYz9zcJihWld"
      },
      "source": [
        "results_df = pd.DataFrame({'baseline':baseline_scores, 'all_feats': all_feat_scores, 'rfe_top_10': rfe_top_10_scores})"
      ],
      "execution_count": null,
      "outputs": []
    },
    {
      "cell_type": "code",
      "metadata": {
        "id": "BuJy8_9ChZz_"
      },
      "source": [
        "results_df.plot(y=[\"baseline\", \"all_feats\", \"rfe_top_10\"], kind=\"bar\")"
      ],
      "execution_count": null,
      "outputs": []
    },
    {
      "cell_type": "code",
      "metadata": {
        "id": "77k7XuiVhcUH"
      },
      "source": [
        ""
      ],
      "execution_count": null,
      "outputs": []
    }
  ]
}